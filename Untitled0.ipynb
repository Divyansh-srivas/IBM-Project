{
  "nbformat": 4,
  "nbformat_minor": 0,
  "metadata": {
    "colab": {
      "provenance": [],
      "authorship_tag": "ABX9TyPqJlv1b0INJ9wXTNggmyPt",
      "include_colab_link": true
    },
    "kernelspec": {
      "name": "python3",
      "display_name": "Python 3"
    },
    "language_info": {
      "name": "python"
    }
  },
  "cells": [
    {
      "cell_type": "markdown",
      "metadata": {
        "id": "view-in-github",
        "colab_type": "text"
      },
      "source": [
        "<a href=\"https://colab.research.google.com/github/Divyansh-srivas/IBM-Project/blob/main/Untitled0.ipynb\" target=\"_parent\"><img src=\"https://colab.research.google.com/assets/colab-badge.svg\" alt=\"Open In Colab\"/></a>"
      ]
    },
    {
      "cell_type": "code",
      "execution_count": null,
      "metadata": {
        "id": "XsYtHL5cggUD"
      },
      "outputs": [],
      "source": [
        "import pandas as pd\n",
        "import numpy as np\n",
        "import matplotlib.pyplot as plt  # <-- NEW: For plotting\n",
        "from sklearn.model_selection import train_test_split\n",
        "from sklearn.ensemble import RandomForestRegressor, GradientBoostingRegressor, VotingRegressor\n",
        "from sklearn.linear_model import LinearRegression\n",
        "from sklearn.metrics import mean_squared_error\n",
        "\n",
        "# Sample dataset\n",
        "def create_sample_data():\n",
        "    data = {\n",
        "        'Experience': [1, 2, 3, 4, 5, 6, 7, 8, 9, 10],\n",
        "        'Test_Score': [80, 82, 84, 86, 88, 90, 92, 94, 96, 98],\n",
        "        'Interview_Score': [70, 72, 74, 76, 78, 80, 82, 84, 86, 88],\n",
        "        'Salary': [30000, 35000, 40000, 45000, 50000, 55000, 60000, 65000, 70000, 75000]\n",
        "    }\n",
        "    return pd.DataFrame(data)\n",
        "\n",
        "# Train the ensemble model\n",
        "def train_model(df):\n",
        "    X = df[['Experience', 'Test_Score', 'Interview_Score']]\n",
        "    y = df['Salary']\n",
        "    X_train, X_test, y_train, y_test = train_test_split(X, y, test_size=0.2, random_state=42)\n",
        "\n",
        "    model1 = LinearRegression()\n",
        "    model2 = RandomForestRegressor(random_state=1)\n",
        "    model3 = GradientBoostingRegressor(random_state=1)\n",
        "\n",
        "    ensemble_model = VotingRegressor(estimators=[\n",
        "        ('lr', model1),\n",
        "        ('rf', model2),\n",
        "        ('gb', model3)\n",
        "    ])\n",
        "\n",
        "    ensemble_model.fit(X_train, y_train)\n",
        "\n",
        "    y_pred = ensemble_model.predict(X_test)\n",
        "    mse = mean_squared_error(y_test, y_pred)\n",
        "    print(f\" Model Trained | Mean Squared Error on Test Data: {mse:.2f}\")\n",
        "    return ensemble_model, df\n",
        "\n",
        "# Predict salary based on user input and show graph\n",
        "def predict_salary(model, df):\n",
        "    try:\n",
        "        exp = float(input(\"Enter candidate's years of experience: \"))\n",
        "        test_score = float(input(\"Enter candidate's test score (out of 100): \"))\n",
        "        interview_score = float(input(\"Enter candidate's interview score (out of 100): \"))\n",
        "\n",
        "        candidate_df = pd.DataFrame([[exp, test_score, interview_score]],\n",
        "                                    columns=['Experience', 'Test_Score', 'Interview_Score'])\n",
        "\n",
        "        predicted_salary = model.predict(candidate_df)\n",
        "        print(f\"\\nPredicted Salary: ${predicted_salary[0]:,.2f}\")\n",
        "\n",
        "        # Visualize the prediction\n",
        "        plt.figure(figsize=(10, 6))\n",
        "        plt.scatter(df['Experience'], df['Salary'], color='blue', label='Actual Salaries')\n",
        "        plt.scatter(exp, predicted_salary[0], color='red', marker='*', s=200, label='Predicted Salary')\n",
        "        plt.xlabel('Experience (Years)')\n",
        "        plt.ylabel('Salary ($)')\n",
        "        plt.title('Salary Prediction based on Experience')\n",
        "        plt.legend()\n",
        "        plt.grid(True)\n",
        "        plt.show()\n",
        "\n",
        "    except ValueError:\n",
        "        print(\"Invalid input. Please enter numeric values for experience, test score, and interview score.\")\n",
        "    except Exception as e:\n",
        "        print(f\"An error occurred: {e}\")\n",
        "\n",
        "# Main execution\n",
        "if __name__ == '__main__':\n",
        "    sample_df = create_sample_data()\n",
        "    trained_model, full_df = train_model(sample_df)\n",
        "    predict_salary(trained_model, full_df)"
      ]
    },
    {
      "cell_type": "code",
      "source": [
        "import pandas as pd\n",
        "import numpy as np\n",
        "import matplotlib.pyplot as plt  # <-- NEW: For plotting\n",
        "from sklearn.model_selection import train_test_split\n",
        "from sklearn.ensemble import RandomForestRegressor, GradientBoostingRegressor, VotingRegressor\n",
        "from sklearn.linear_model import LinearRegression\n",
        "from sklearn.metrics import mean_squared_error\n",
        "\n",
        "# Sample dataset\n",
        "def create_sample_data():\n",
        "    data = {\n",
        "        'Experience': [1, 2, 3, 4, 5, 6, 7, 8, 9, 10],\n",
        "        'Test_Score': [80, 82, 84, 86, 88, 90, 92, 94, 96, 98],\n",
        "        'Interview_Score': [70, 72, 74, 76, 78, 80, 82, 84, 86, 88],\n",
        "        'Salary': [30000, 35000, 40000, 45000, 50000, 55000, 60000, 65000, 70000, 75000]\n",
        "    }\n",
        "    return pd.DataFrame(data)\n",
        "\n",
        "# Train the ensemble model\n",
        "def train_model(df):\n",
        "    X = df[['Experience', 'Test_Score', 'Interview_Score']]\n",
        "    y = df['Salary']\n",
        "    X_train, X_test, y_train, y_test = train_test_split(X, y, test_size=0.2, random_state=42)\n",
        "\n",
        "    model1 = LinearRegression()\n",
        "    model2 = RandomForestRegressor(random_state=1)\n",
        "    model3 = GradientBoostingRegressor(random_state=1)\n",
        "\n",
        "    ensemble_model = VotingRegressor(estimators=[\n",
        "        ('lr', model1),\n",
        "        ('rf', model2),\n",
        "        ('gb', model3)\n",
        "    ])\n",
        "\n",
        "    ensemble_model.fit(X_train, y_train)\n",
        "\n",
        "    y_pred = ensemble_model.predict(X_test)\n",
        "    mse = mean_squared_error(y_test, y_pred)\n",
        "    print(f\" Model Trained | Mean Squared Error on Test Data: {mse:.2f}\")\n",
        "    return ensemble_model, df\n",
        "\n",
        "# Predict salary based on user input and show graph\n",
        "def predict_salary(model, df):\n",
        "    try:\n",
        "        exp = float(input(\"Enter candidate's years of experience: \"))\n",
        "        test_score = float(input(\"Enter candidate's test score (out of 100): \"))\n",
        "        interview_score = float(input(\"Enter candidate's interview score (out of 100): \"))\n",
        "\n",
        "        candidate_df = pd.DataFrame([[exp, test_score, interview_score]],\n",
        "                                    columns=['Experience', 'Test_Score', 'Interview_Score'])\n",
        "\n",
        "        predicted_salary = model.predict(candidate_df)\n",
        "        predicted_value = round(predicted_salary[0], 2)\n",
        "        print(\" Predicted Salary for candidate: ₹\", predicted_value)\n",
        "\n",
        "        # Plotting the prediction\n",
        "        plt.figure(figsize=(8, 5))\n",
        "        plt.scatter(df['Experience'], df['Salary'], color='blue', label='Original Data')\n",
        "        plt.scatter(exp, predicted_value, color='red', s=100, label='Predicted Salary')\n",
        "        plt.xlabel(\"Years of Experience\")\n",
        "        plt.ylabel(\"Salary\")\n",
        "        plt.title(\"Salary Prediction\")\n",
        "        plt.legend()\n",
        "        plt.grid(True)\n",
        "        plt.show()\n",
        "\n",
        "    except ValueError:\n",
        "        print(\"❌ Invalid input! Please enter numerical values.\")\n",
        "\n",
        "# Main function\n",
        "def main():\n",
        "    df = create_sample_data()\n",
        "    model, df = train_model(df)\n",
        "    while True:\n",
        "        predict_salary(model, df)\n",
        "        cont = input(\"Do you want to predict another salary? (yes/no): \").strip().lower()\n",
        "        if cont != 'yes':\n",
        "            print(\"👋 Exiting Salary Predictor. Goodbye!\")\n",
        "            break\n",
        "\n",
        "if __name__ == \"__main__\":\n",
        "    main()\n"
      ],
      "metadata": {
        "colab": {
          "base_uri": "https://localhost:8080/",
          "height": 574
        },
        "id": "wISmXKG0hBYG",
        "outputId": "ab72b389-109f-4063-a462-ca7923619ecd"
      },
      "execution_count": null,
      "outputs": [
        {
          "output_type": "stream",
          "name": "stdout",
          "text": [
            " Model Trained | Mean Squared Error on Test Data: 5961760.37\n",
            "Enter candidate's years of experience: 4\n",
            "Enter candidate's test score (out of 100): 60\n",
            "Enter candidate's interview score (out of 100): 96\n",
            " Predicted Salary for candidate: ₹ 43412.59\n"
          ]
        },
        {
          "output_type": "display_data",
          "data": {
            "text/plain": [
              "<Figure size 800x500 with 1 Axes>"
            ],
            "image/png": "[encoded data removed]"
          },
          "metadata": {}
        }
      ]
    },
    {
      "cell_type": "code",
      "source": [],
      "metadata": {
        "id": "tnmGHLJRhQeG"
      },
      "execution_count": null,
      "outputs": []
    }
  ]
}